{
 "cells": [
  {
   "cell_type": "code",
   "execution_count": null,
   "id": "55c7801e-ce68-4f4d-9cfe-96c8f6ce205a",
   "metadata": {},
   "outputs": [],
   "source": [
    "import pandas as pd\n",
    "\n",
    "from sklearn.ensemble import RandomForestRegressor\n",
    "from sklearn.model_selection import train_test_split\n",
    "from sklearn.model_selection import cross_val_score\n",
    "from sklearn.metrics import mean_absolute_error\n",
    "\n",
    "DF_MAIN_MOD_NORETIRES = 'data/df_main_mod_noretires.csv'\n",
    "\n",
    "pd.set_option('display.max_columns', 60)\n",
    "pd.set_option('display.max_rows', 160)"
   ]
  },
  {
   "cell_type": "markdown",
   "id": "9bdc9687-0fe0-4c10-885d-98e5f99f6036",
   "metadata": {},
   "source": [
    "# Uczenie maszynowe\n",
    "Wykorzystwany jest model RandomForestRegressor. Trenowania dokonujemy na samodzielnie wykrojonej części danych za pomocą metody cross-validation o 5 foldach.<br>\n",
    "Sprawdzanie jakości przewidywań za pomocą średniego błędu bezwzględnego pozwala sprawdzić, że najbardziej optymalną ilością estymatorów jest 150.\n",
    "\n",
    "Dzieląc wartość MAE dla modelu o 150 estymatorach przez średnią docelowej kolumny \"p3350-stopień-wykorzystania-miejsc-noclegowych-w-kolejnym-roku\" otrzymujemy, że wyniki przewidywań odchylone są od wartości faktycznych o około 25%. To dosyć dużo, ale same dane (oraz ich dobór względem celu) ma sobie wiele do zarzucenia."
   ]
  },
  {
   "cell_type": "code",
   "execution_count": 2,
   "id": "1f76d8d0-1c4b-49e3-9a7c-d17715e0246a",
   "metadata": {},
   "outputs": [],
   "source": [
    "df = pd.read_csv(DF_MAIN_MOD_NORETIRES)\n",
    "Y = df['p3350-stopień-wykorzystania-miejsc-noclegowych-w-kolejnym-roku']\n",
    "X = df.drop(['p3350-stopień-wykorzystania-miejsc-noclegowych-w-kolejnym-roku'], axis=1).copy()\n",
    "\n",
    "X_train, X_valid, Y_train, Y_valid = train_test_split(X, Y, \n",
    "                                                      train_size=0.8, test_size=0.2,\n",
    "                                                      random_state=0)\n"
   ]
  },
  {
   "cell_type": "code",
   "execution_count": 3,
   "id": "b2027b20-11dd-4e9a-8feb-d1fe36790c82",
   "metadata": {},
   "outputs": [
    {
     "data": {
      "text/plain": [
       "3.5147356164383567"
      ]
     },
     "execution_count": 3,
     "metadata": {},
     "output_type": "execute_result"
    }
   ],
   "source": [
    "model = RandomForestRegressor(n_estimators=100, random_state=0)\n",
    "model.fit(X_train, Y_train)\n",
    "preds = model.predict(X_valid)\n",
    "MAE1 = mean_absolute_error(Y_valid, preds)"
   ]
  },
  {
   "cell_type": "code",
   "execution_count": 15,
   "id": "6e06369f-bdf4-44e9-b17c-af229b8c896a",
   "metadata": {},
   "outputs": [],
   "source": [
    "def get_score(n_esti):\n",
    "    model2 = RandomForestRegressor(n_estimators=n_esti, random_state=0)\n",
    "    scores = -1 * cross_val_score(model2, X, Y,\n",
    "                                  cv=5,\n",
    "                                  scoring='neg_mean_absolute_error')\n",
    "    return scores.mean()"
   ]
  },
  {
   "cell_type": "code",
   "execution_count": 16,
   "id": "4c422f5f-4e32-4727-834d-99d7803145ee",
   "metadata": {},
   "outputs": [],
   "source": [
    "results = {i : get_score(i) for i in range(50,450,50)}"
   ]
  },
  {
   "cell_type": "code",
   "execution_count": 17,
   "id": "ac1ff480-a384-42d6-8d9d-54981278ebc3",
   "metadata": {},
   "outputs": [
    {
     "data": {
      "image/png": "[encoded data removed]",
      "text/plain": [
       "<Figure size 432x288 with 1 Axes>"
      ]
     },
     "metadata": {
      "needs_background": "light"
     },
     "output_type": "display_data"
    }
   ],
   "source": [
    "import matplotlib.pyplot as plt\n",
    "%matplotlib inline\n",
    "\n",
    "plt.plot(list(results.keys()), list(results.values()))\n",
    "plt.show()"
   ]
  },
  {
   "cell_type": "code",
   "execution_count": 18,
   "id": "603b765a-9b62-4f03-ab60-3ba3a583c69e",
   "metadata": {},
   "outputs": [
    {
     "data": {
      "text/plain": [
       "0.2582033902443773"
      ]
     },
     "execution_count": 18,
     "metadata": {},
     "output_type": "execute_result"
    }
   ],
   "source": [
    "get_score(150)/Y.mean()"
   ]
  }
 ],
 "metadata": {
  "kernelspec": {
   "display_name": "Python 3 (ipykernel)",
   "language": "python",
   "name": "python3"
  },
  "language_info": {
   "codemirror_mode": {
    "name": "ipython",
    "version": 3
   },
   "file_extension": ".py",
   "mimetype": "text/x-python",
   "name": "python",
   "nbconvert_exporter": "python",
   "pygments_lexer": "ipython3",
   "version": "3.8.12"
  }
 },
 "nbformat": 4,
 "nbformat_minor": 5
}
